{
 "cells": [
  {
   "cell_type": "code",
   "execution_count": 15,
   "id": "4c0483e5-ed74-402e-b9a9-f82932fe4562",
   "metadata": {},
   "outputs": [],
   "source": [
    "#lambda functions are functions that take just an arguement and expression \n",
    "id_strings = ['a2','c4','b1']"
   ]
  },
  {
   "cell_type": "code",
   "execution_count": 22,
   "id": "a5703092-d579-40b7-b049-ab3d6ee52f1b",
   "metadata": {},
   "outputs": [
    {
     "data": {
      "text/plain": [
       "['a2', 'b1', 'c4']"
      ]
     },
     "execution_count": 22,
     "metadata": {},
     "output_type": "execute_result"
    }
   ],
   "source": [
    "id_strings.sort()\n",
    "id_strings"
   ]
  },
  {
   "cell_type": "code",
   "execution_count": 33,
   "id": "728bcf44-c7c5-412c-ad69-8b9e3ca91b1d",
   "metadata": {},
   "outputs": [
    {
     "name": "stdout",
     "output_type": "stream",
     "text": [
      "['b1', 'a2', 'c4']\n"
     ]
    }
   ],
   "source": [
    "#sort based on second value \n",
    "def sort_function(x):\n",
    "    return x[1]\n",
    "id_strings2 = ['a2','c4','b1']\n",
    "id_strings2.sort(key=sort_function)\n",
    "print(id_strings2)"
   ]
  },
  {
   "cell_type": "code",
   "execution_count": 34,
   "id": "c7766317-d083-4b81-814c-b474ec839761",
   "metadata": {},
   "outputs": [],
   "source": [
    "#using a lambda function "
   ]
  },
  {
   "cell_type": "code",
   "execution_count": 37,
   "id": "d8f6e539-4979-40bb-94c6-0a57866646f4",
   "metadata": {},
   "outputs": [
    {
     "data": {
      "text/plain": [
       "['b1', 'a2', 'c4']"
      ]
     },
     "execution_count": 37,
     "metadata": {},
     "output_type": "execute_result"
    }
   ],
   "source": [
    "id_strings3 = ['a2','c4','b1']\n",
    "id_strings3.sort(key=lambda x:x[1])\n",
    "id_strings3"
   ]
  },
  {
   "cell_type": "code",
   "execution_count": 45,
   "id": "1689cf61-722a-4453-adca-ab84ac80a652",
   "metadata": {},
   "outputs": [
    {
     "data": {
      "text/plain": [
       "'not a number'"
      ]
     },
     "execution_count": 45,
     "metadata": {},
     "output_type": "execute_result"
    }
   ],
   "source": [
    "##using if,elif and else\n",
    "a=6\n",
    "action = 1 if a ==1 else 2 if a ==2 else 3 if a ==3 else 'not a number'\n",
    "action"
   ]
  },
  {
   "cell_type": "code",
   "execution_count": 57,
   "id": "3c80262e-6c2b-436c-a7a8-72328be18f79",
   "metadata": {},
   "outputs": [
    {
     "data": {
      "text/plain": [
       "'Big'"
      ]
     },
     "execution_count": 57,
     "metadata": {},
     "output_type": "execute_result"
    }
   ],
   "source": [
    "##using if,elif and else in lambda function \n",
    "test_value = lambda x:\"Big\" if x >= 5 else \"small\" \n",
    "test_value(45)"
   ]
  },
  {
   "cell_type": "code",
   "execution_count": null,
   "id": "b4f78f61-a67a-4514-9140-7503b166ce9e",
   "metadata": {},
   "outputs": [],
   "source": []
  }
 ],
 "metadata": {
  "kernelspec": {
   "display_name": "Python 3 (ipykernel)",
   "language": "python",
   "name": "python3"
  },
  "language_info": {
   "codemirror_mode": {
    "name": "ipython",
    "version": 3
   },
   "file_extension": ".py",
   "mimetype": "text/x-python",
   "name": "python",
   "nbconvert_exporter": "python",
   "pygments_lexer": "ipython3",
   "version": "3.12.4"
  }
 },
 "nbformat": 4,
 "nbformat_minor": 5
}

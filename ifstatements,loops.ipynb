{
 "cells": [
  {
   "cell_type": "code",
   "execution_count": 1,
   "id": "39424592-6d60-4022-afab-f5f7f0c74f5d",
   "metadata": {},
   "outputs": [],
   "source": [
    "#iterate through a dictionary\n",
    "d1 = {'key1':1,'key2':2}"
   ]
  },
  {
   "cell_type": "code",
   "execution_count": 2,
   "id": "61931932-13a3-4ffd-b4ed-a923f172b83e",
   "metadata": {},
   "outputs": [
    {
     "name": "stdout",
     "output_type": "stream",
     "text": [
      "('key1', 1)\n",
      "('key2', 2)\n"
     ]
    }
   ],
   "source": [
    "for pair in d1.items():\n",
    "    print(pair)"
   ]
  },
  {
   "cell_type": "code",
   "execution_count": 3,
   "id": "fe260161-42f7-497b-a7c7-6b43ece6ba79",
   "metadata": {},
   "outputs": [],
   "source": [
    "##enumerate(function for a counter)\n",
    "l1 = ['a','b','c','d']"
   ]
  },
  {
   "cell_type": "code",
   "execution_count": 8,
   "id": "4316eaaf-235d-4a2a-bdb5-ef2ce3ada7f3",
   "metadata": {},
   "outputs": [
    {
     "name": "stdout",
     "output_type": "stream",
     "text": [
      "a\n",
      "b\n",
      "c\n",
      "d\n",
      "4\n"
     ]
    }
   ],
   "source": [
    "for count,letter in enumerate(l1):\n",
    "    print(letter)\n",
    "print(count+1)"
   ]
  },
  {
   "cell_type": "code",
   "execution_count": null,
   "id": "2e6b33a2-4808-4f77-8a66-9751fe75a33b",
   "metadata": {},
   "outputs": [],
   "source": []
  }
 ],
 "metadata": {
  "kernelspec": {
   "display_name": "Python 3 (ipykernel)",
   "language": "python",
   "name": "python3"
  },
  "language_info": {
   "codemirror_mode": {
    "name": "ipython",
    "version": 3
   },
   "file_extension": ".py",
   "mimetype": "text/x-python",
   "name": "python",
   "nbconvert_exporter": "python",
   "pygments_lexer": "ipython3",
   "version": "3.12.4"
  }
 },
 "nbformat": 4,
 "nbformat_minor": 5
}

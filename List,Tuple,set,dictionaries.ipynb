{
 "cells": [
  {
   "cell_type": "markdown",
   "id": "a193417f-a622-4c8e-a451-316efff6f19d",
   "metadata": {},
   "source": [
    "## List"
   ]
  },
  {
   "cell_type": "code",
   "execution_count": 12,
   "id": "8617793c-2ac1-43d3-bc9e-5c32bcb511d1",
   "metadata": {},
   "outputs": [],
   "source": [
    "#supports multiple data types \n",
    "l1 = [1,2,3]\n",
    "l2 = [1,'Hello','Test',2.5]\n"
   ]
  },
  {
   "cell_type": "code",
   "execution_count": 13,
   "id": "9f649282-877e-4014-8903-a0fb09b5b279",
   "metadata": {},
   "outputs": [
    {
     "data": {
      "text/plain": [
       "1"
      ]
     },
     "execution_count": 13,
     "metadata": {},
     "output_type": "execute_result"
    }
   ],
   "source": [
    "#index \n",
    "l1[0]"
   ]
  },
  {
   "cell_type": "code",
   "execution_count": 14,
   "id": "0c0919d0-b97f-4e1b-82b5-df12679c4fd0",
   "metadata": {},
   "outputs": [
    {
     "data": {
      "text/plain": [
       "['Hello', 'Test', 2.5]"
      ]
     },
     "execution_count": 14,
     "metadata": {},
     "output_type": "execute_result"
    }
   ],
   "source": [
    "#slice\n",
    "l2[1:]"
   ]
  },
  {
   "cell_type": "code",
   "execution_count": 15,
   "id": "e4772ed5-fcee-41ba-96ad-982d83eddeba",
   "metadata": {},
   "outputs": [
    {
     "data": {
      "text/plain": [
       "4"
      ]
     },
     "execution_count": 15,
     "metadata": {},
     "output_type": "execute_result"
    }
   ],
   "source": [
    "#length,append(),pop(index),sort(),min(),max()\n",
    "len(l2)"
   ]
  },
  {
   "cell_type": "markdown",
   "id": "297eeb43-25de-43ac-b3ba-b20aff6e7e43",
   "metadata": {},
   "source": [
    "## Tuple "
   ]
  },
  {
   "cell_type": "code",
   "execution_count": null,
   "id": "a42492a8-e4b8-4e0f-a5c5-b01007344472",
   "metadata": {},
   "outputs": [],
   "source": [
    "#elements are not mutable"
   ]
  },
  {
   "cell_type": "code",
   "execution_count": 17,
   "id": "18f8f14c-53c6-4d84-911f-dff24dd8f42c",
   "metadata": {},
   "outputs": [
    {
     "data": {
      "text/plain": [
       "(1, 2, 3)"
      ]
     },
     "execution_count": 17,
     "metadata": {},
     "output_type": "execute_result"
    }
   ],
   "source": [
    "t1 = (1,2,3)\n",
    "t1"
   ]
  },
  {
   "cell_type": "markdown",
   "id": "b8dddc15-4094-421f-96f3-f06e29f1f858",
   "metadata": {},
   "source": [
    "## Set"
   ]
  },
  {
   "cell_type": "code",
   "execution_count": 28,
   "id": "63acc7ee-da78-4485-b128-43125dfff6a8",
   "metadata": {},
   "outputs": [
    {
     "data": {
      "text/plain": [
       "{1, 2, 3, 4}"
      ]
     },
     "execution_count": 28,
     "metadata": {},
     "output_type": "execute_result"
    }
   ],
   "source": [
    "#unorder collection of unique elements\n",
    "s1={1,2,3}\n",
    "#cast a list \n",
    "s2=set([1,2,3,4])\n",
    "\n",
    "#set operations \n",
    "# difference\n",
    "s2-s1 #4\n",
    "\n",
    "#intersection(exists in both)\n",
    "s1&s2\n",
    "\n",
    "#union\n",
    "s1|s2"
   ]
  },
  {
   "cell_type": "markdown",
   "id": "925fe414-ac28-471f-a776-3ba960f86c78",
   "metadata": {},
   "source": [
    "## Dictionaries"
   ]
  },
  {
   "cell_type": "code",
   "execution_count": 1,
   "id": "82f8ce37-f374-4a14-a718-60a4467de478",
   "metadata": {},
   "outputs": [
    {
     "data": {
      "text/plain": [
       "[1, 2, 3]"
      ]
     },
     "execution_count": 1,
     "metadata": {},
     "output_type": "execute_result"
    }
   ],
   "source": [
    "#called using its key,value pair \n",
    "d1={'k1':'value1','k2':'value2'}\n",
    "d2 = {'k1':'sdf','k2':[1,2,3],'k3':{'insidekey':100}}\n",
    "d2['k2']"
   ]
  },
  {
   "cell_type": "code",
   "execution_count": 2,
   "id": "f0db5802-e958-4dd0-ba19-ccbadd911f8b",
   "metadata": {},
   "outputs": [
    {
     "data": {
      "text/plain": [
       "100"
      ]
     },
     "execution_count": 2,
     "metadata": {},
     "output_type": "execute_result"
    }
   ],
   "source": [
    "d2['k3']['insidekey']"
   ]
  },
  {
   "cell_type": "code",
   "execution_count": 3,
   "id": "0ca69d62-751e-4f06-8310-e127c8595fa1",
   "metadata": {},
   "outputs": [
    {
     "data": {
      "text/plain": [
       "{'k1': 'sdf', 'k2': [1, 2, 3], 'k3': 600}"
      ]
     },
     "execution_count": 3,
     "metadata": {},
     "output_type": "execute_result"
    }
   ],
   "source": [
    "d2['k3'] = 600\n",
    "d2"
   ]
  },
  {
   "cell_type": "code",
   "execution_count": null,
   "id": "5b230306-fb10-4155-9829-6d4002b3ad0d",
   "metadata": {},
   "outputs": [],
   "source": []
  }
 ],
 "metadata": {
  "kernelspec": {
   "display_name": "Python 3 (ipykernel)",
   "language": "python",
   "name": "python3"
  },
  "language_info": {
   "codemirror_mode": {
    "name": "ipython",
    "version": 3
   },
   "file_extension": ".py",
   "mimetype": "text/x-python",
   "name": "python",
   "nbconvert_exporter": "python",
   "pygments_lexer": "ipython3",
   "version": "3.12.4"
  }
 },
 "nbformat": 4,
 "nbformat_minor": 5
}
